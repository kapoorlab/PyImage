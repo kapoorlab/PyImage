{
 "cells": [
  {
   "cell_type": "code",
   "execution_count": 1,
   "metadata": {},
   "outputs": [],
   "source": [
    "import sys\n",
    "sys.path.insert(0, \"/Users/aimachine/PyImage/utils\")\n",
    "import numpy as np\n",
    "import os\n",
    "import glob\n",
    "import numpy as np\n",
    "import matplotlib.pyplot as plt\n",
    "from plot_utils import multiplotlineX, overlaymultiplotX,overlaymultiplotXSave\n",
    "from bokeh.plotting import figure, output_file, show\n",
    "from bokeh.io import export_png, output_notebook\n",
    "from HoughLine import show_poly_regression"
   ]
  },
  {
   "cell_type": "code",
   "execution_count": 2,
   "metadata": {},
   "outputs": [],
   "source": [
    "sourcedir = '/Users/aimachine/RawData/'"
   ]
  },
  {
   "cell_type": "code",
   "execution_count": 3,
   "metadata": {},
   "outputs": [],
   "source": [
    "Time = []\n",
    "Xcord = []\n",
    "Ycord = []\n",
    "\n",
    "Path = os.path.join(sourcedir, '*.txt')\n",
    "X = sorted(glob.glob(Path))\n",
    "Names = sorted(glob.glob(Path))\n",
    "for file in Names:\n",
    "    \n",
    " base = os.path.split(file)[-1]\n",
    "\n",
    " Filename = os.path.splitext(base)\n",
    " print('Saving Plot for :', Filename[0])\n",
    " \n",
    " time, X, Y = np.loadtxt(file, delimiter = ',', skiprows = 1, unpack=True)\n",
    " \n",
    " Time.append(time)\n",
    " Xcord.append(X)\n",
    " Ycord.append(Y)\n",
    " maxtime = np.max(Time)\n",
    " mintime = np.min(Time)\n",
    "\n",
    " DivisionList = []\n",
    " for time in range(int(mintime), int(maxtime) + 1):\n",
    "     \n",
    "     timecounter = 0  \n",
    "     for i in np.nditer(Time):\n",
    "       \n",
    "       if(time == i):\n",
    "            timecounter = timecounter + 1\n",
    "       \n",
    "     Div = (time, timecounter)\n",
    "     DivisionList.append(Div)\n",
    " X =[]\n",
    " Y = []\n",
    " for i in range(len(DivisionList)):       \n",
    "   #Bokeh plots\n",
    "   \n",
    "   X.append(DivisionList[i][0])\n",
    "   Y.append(DivisionList[i][1])\n",
    " p = figure(title='Division Counter', x_axis_label='Time', y_axis_label='Division Number')\n",
    " p.line(X, Y, legend = \"Divisions-Time\", line_width = 2)\n",
    "   \n",
    " output_notebook()\n",
    " show(p)\n",
    " export_png(p, filename=sourcedir + 'DivisionCounter' + Filename[0] + '.png')\n",
    " show_poly_regression(X,Y,10) \n",
    "   \n",
    "\n"
   ]
  },
  {
   "cell_type": "code",
   "execution_count": null,
   "metadata": {},
   "outputs": [],
   "source": []
  },
  {
   "cell_type": "code",
   "execution_count": null,
   "metadata": {},
   "outputs": [],
   "source": []
  },
  {
   "cell_type": "code",
   "execution_count": null,
   "metadata": {},
   "outputs": [],
   "source": []
  }
 ],
 "metadata": {
  "kernelspec": {
   "display_name": "Python [conda env:anaconda3]",
   "language": "python",
   "name": "conda-env-anaconda3-py"
  },
  "language_info": {
   "codemirror_mode": {
    "name": "ipython",
    "version": 3
   },
   "file_extension": ".py",
   "mimetype": "text/x-python",
   "name": "python",
   "nbconvert_exporter": "python",
   "pygments_lexer": "ipython3",
   "version": "3.6.5"
  }
 },
 "nbformat": 4,
 "nbformat_minor": 2
}
