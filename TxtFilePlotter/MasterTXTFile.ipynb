{
 "cells": [
  {
   "cell_type": "code",
   "execution_count": 64,
   "metadata": {},
   "outputs": [],
   "source": [
    "import sys\n",
    "sys.path.insert(0, \"/Users/aimachine/PyImage/utils\")\n",
    "import numpy as np\n",
    "import os\n",
    "import glob\n",
    "import numpy as np\n",
    "import matplotlib.pyplot as plt\n",
    "from plot_utils import multiplotlineX, overlaymultiplotX,overlaymultiplotXSave\n",
    "from bokeh.plotting import figure, output_file, show\n",
    "from bokeh.io import export_png, output_notebook\n",
    "import csv"
   ]
  },
  {
   "cell_type": "code",
   "execution_count": 65,
   "metadata": {},
   "outputs": [],
   "source": [
    "sourcedir = '/Volumes/u934/service_imagerie/v_kapoor/HEARD/Feb2019/decon_reg_maxProj/Latest_CTRACK-TxT/'\n",
    "targetdir = '/Volumes/u934/service_imagerie/v_kapoor/HEARD/Feb2019/decon_reg_maxProj/Latest_CTRACK-TxT/MasterFile/'"
   ]
  },
  {
   "cell_type": "raw",
   "metadata": {},
   "source": [
    "# Read all the text files into proper variables for the data stored in various columns. For CTtrack generated text files the following are in the 7 columns:\n",
    "1)  T = Time\n",
    "2) In - Ic = Total Nuclei Intensity - Cloud Intensity\n",
    "3) (In - Ic) /  An = Average Nuclei Intensity\n",
    "4) An = Area of nuclei\n",
    "5) Ic = Colud Intensity\n",
    "6) Ic / Ac = Average Cloud Intensity\n",
    "7) Ac = Cloud Area\n"
   ]
  },
  {
   "cell_type": "code",
   "execution_count": 67,
   "metadata": {},
   "outputs": [],
   "source": [
    "\n",
    "MasterFile = 'MasterFile.txt'\n",
    "Path = os.path.join(sourcedir, '*.txt')\n",
    "X = sorted(glob.glob(Path))\n",
    "Names = sorted(glob.glob(Path))\n",
    "\n",
    "Writefile = open(os.path.join(targetdir,MasterFile), 'w')   \n",
    "\n",
    "\n",
    "     \n",
    "for file in Names:\n",
    "      base = os.path.split(file)[-1]\n",
    "      Filename = os.path.splitext(base)\n",
    "      \n",
    "      value= ( 'time' , 'TotalIntCell', 'AvIntCell', 'AreaCell', 'TotalIntCloud', 'AvIntCloud', 'AreaCloud', Filename[0])\n",
    "      Writefile.write(' '.join(str(s) for s in value) + '\\n')\n",
    "      \n",
    "\n",
    "      time , TotalIntCell, AvIntCell, AreaCell, TotalIntCloud, AvIntCloud, AreaCloud = np.loadtxt(file, delimiter = ',', skiprows = 1, unpack=True, dtype = 'float')\n",
    "\n",
    "      value = time , TotalIntCell, AvIntCell, AreaCell, TotalIntCloud, AvIntCloud, AreaCloud\n",
    "           \n",
    "\n",
    "\n",
    "      np.savetxt(Writefile, np.c_[value], fmt='%0.2f')\n",
    "      \n",
    "    \n",
    "    \n",
    "Writefile.close() \n",
    "     \n",
    "    "
   ]
  },
  {
   "cell_type": "code",
   "execution_count": null,
   "metadata": {},
   "outputs": [],
   "source": []
  },
  {
   "cell_type": "code",
   "execution_count": null,
   "metadata": {},
   "outputs": [],
   "source": []
  }
 ],
 "metadata": {
  "kernelspec": {
   "display_name": "Python [conda env:tensorflowpy3pt5]",
   "language": "python",
   "name": "conda-env-tensorflowpy3pt5-py"
  },
  "language_info": {
   "codemirror_mode": {
    "name": "ipython",
    "version": 3
   },
   "file_extension": ".py",
   "mimetype": "text/x-python",
   "name": "python",
   "nbconvert_exporter": "python",
   "pygments_lexer": "ipython3",
   "version": "3.5.5"
  }
 },
 "nbformat": 4,
 "nbformat_minor": 2
}
