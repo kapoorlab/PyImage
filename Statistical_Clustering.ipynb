{
 "cells": [
  {
   "cell_type": "code",
   "execution_count": 1,
   "metadata": {},
   "outputs": [
    {
     "name": "stderr",
     "output_type": "stream",
     "text": [
      "/Users/aimachine/anaconda3/envs/tensorflowpy3pt5/lib/python3.5/importlib/_bootstrap.py:222: RuntimeWarning: numpy.dtype size changed, may indicate binary incompatibility. Expected 96, got 88\n",
      "  return f(*args, **kwds)\n",
      "/Users/aimachine/anaconda3/envs/tensorflowpy3pt5/lib/python3.5/importlib/_bootstrap.py:222: RuntimeWarning: numpy.dtype size changed, may indicate binary incompatibility. Expected 96, got 88\n",
      "  return f(*args, **kwds)\n",
      "/Users/aimachine/anaconda3/envs/tensorflowpy3pt5/lib/python3.5/importlib/_bootstrap.py:222: RuntimeWarning: numpy.dtype size changed, may indicate binary incompatibility. Expected 96, got 88\n",
      "  return f(*args, **kwds)\n",
      "/Users/aimachine/anaconda3/envs/tensorflowpy3pt5/lib/python3.5/importlib/_bootstrap.py:222: RuntimeWarning: numpy.dtype size changed, may indicate binary incompatibility. Expected 96, got 88\n",
      "  return f(*args, **kwds)\n",
      "/Users/aimachine/anaconda3/envs/tensorflowpy3pt5/lib/python3.5/importlib/_bootstrap.py:222: RuntimeWarning: numpy.dtype size changed, may indicate binary incompatibility. Expected 96, got 88\n",
      "  return f(*args, **kwds)\n"
     ]
    }
   ],
   "source": [
    "import sys\n",
    "sys.path.insert(0, \"/Users/aimachine/PyImage/utils\")\n",
    "import numpy as np\n",
    "import tensorflow as tf\n",
    "import importlib\n",
    "import matplotlib.pyplot as plt\n",
    "import os\n",
    "import glob\n",
    "import skimage\n",
    "import cv2\n",
    "from skimage import measure\n",
    "from skimage import filters\n",
    "from sklearn.cluster import DBSCAN\n",
    "from skimage.filters import threshold_otsu\n",
    "from tifffile import imread\n",
    "import scipy\n",
    "\n",
    "\n",
    "from scipy import ndimage\n",
    "\n",
    "from DiscreteClustering import Discretize_Clustering\n",
    "from Normalize import normalizeFloat, normalizeMinMax, Path, save_tiff_imagej_compatible"
   ]
  },
  {
   "cell_type": "code",
   "execution_count": 2,
   "metadata": {},
   "outputs": [],
   "source": [
    "basedir = '/Users/aimachine/Documents/JuliaData/Julia/Subset/'\n",
    "targetdir = '/Users/aimachine/Documents/JuliaData/Julia/SpectralSegmentedData/'"
   ]
  },
  {
   "cell_type": "code",
   "execution_count": 3,
   "metadata": {},
   "outputs": [
    {
     "name": "stdout",
     "output_type": "stream",
     "text": [
      "Total number of input images =  1\n",
      "Image size =  (2, 254, 256)\n",
      "Time dim =  2\n"
     ]
    }
   ],
   "source": [
    "Path = os.path.join(basedir, '*.tif')\n",
    "X = []\n",
    "Names = []\n",
    "filesRaw = glob.glob(Path)\n",
    "maxtime = 0\n",
    "axes = 'TYX'\n",
    "for fname in filesRaw:\n",
    "      x = imread(fname)\n",
    "      min = np.amin(x)\n",
    "      max = np.amax(x)\n",
    "      x = normalizeMinMax(x, min, max)  \n",
    "      X.append(x)\n",
    "    \n",
    "     \n",
    "      Names.append(fname)\n",
    "      if X[0].shape[0] > maxtime:\n",
    "        maxtime = X[0].shape[0]\n",
    "X.sort\n",
    "Names.sort\n",
    "\n",
    "\n",
    "ReshapeX = []\n",
    "for i in range(len(X)):\n",
    "    y = np.zeros((maxtime, X[0].shape[1], X[0].shape[2]))\n",
    "    image = X[i]\n",
    "    \n",
    "    y[:X[i].shape[0],:,:] = image[:,:,:]\n",
    "    ReshapeX.append(y)\n",
    "    \n",
    "ReshapeX.sort\n",
    "\n",
    "print('Total number of input images = ', len(X))\n",
    "print('Image size = ', X[0].shape)\n",
    "print('Time dim = ', maxtime)\n",
    "\n",
    "timerange = maxtime\n",
    "\n"
   ]
  },
  {
   "cell_type": "code",
   "execution_count": 10,
   "metadata": {},
   "outputs": [],
   "source": [
    "def Clustering(img):\n",
    "    Labels = img\n",
    "    T_REGIONS = []\n",
    "    for j in range(timerange):\n",
    "      smallimg = img[j,:,:]\n",
    "      \n",
    "      \"\"\"Put clustering code\"\"\"\n",
    "      \n",
    "      labels, N_REGIONS =Discretize_Clustering(smallimg, N_REGIONS = 150)\n",
    "      Labels[j,:,:] = labels\n",
    "      T_REGIONS.append( N_REGIONS)  \n",
    "    return Labels, T_REGIONS       \n",
    "\n",
    "    \n",
    "       \n",
    "    \n",
    "    "
   ]
  },
  {
   "cell_type": "code",
   "execution_count": null,
   "metadata": {},
   "outputs": [
    {
     "name": "stdout",
     "output_type": "stream",
     "text": [
      "time taken 150.23105716705322\n"
     ]
    }
   ],
   "source": [
    "for i in range(0, len(ReshapeX)):\n",
    "  newimg = ReshapeX[i]\n",
    "  \n",
    "  Labels, T_REGIONS = Clustering(newimg)\n",
    "plt.figure(figsize=(5, 5))\n",
    "plt.imshow(newimg[0,:,:])\n",
    "N_REGIONS = T_REGIONS[0]\n",
    "labels = Labels[0,:,:]\n",
    "for l in range(N_REGIONS):\n",
    "        \n",
    "        plt.contour(labels == l, contours=1,\n",
    "                    colors=[plt.cm.nipy_spectral(l / float(N_REGIONS)), ])\n",
    "\n"
   ]
  },
  {
   "cell_type": "code",
   "execution_count": null,
   "metadata": {},
   "outputs": [],
   "source": []
  },
  {
   "cell_type": "code",
   "execution_count": null,
   "metadata": {},
   "outputs": [],
   "source": []
  }
 ],
 "metadata": {
  "kernelspec": {
   "display_name": "Python [conda env:tensorflowpy3pt5]",
   "language": "python",
   "name": "conda-env-tensorflowpy3pt5-py"
  },
  "language_info": {
   "codemirror_mode": {
    "name": "ipython",
    "version": 3
   },
   "file_extension": ".py",
   "mimetype": "text/x-python",
   "name": "python",
   "nbconvert_exporter": "python",
   "pygments_lexer": "ipython3",
   "version": "3.5.5"
  }
 },
 "nbformat": 4,
 "nbformat_minor": 2
}
