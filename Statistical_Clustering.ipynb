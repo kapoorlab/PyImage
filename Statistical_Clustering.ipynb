{
 "cells": [
  {
   "cell_type": "code",
   "execution_count": 18,
   "metadata": {},
   "outputs": [],
   "source": [
    "import sys\n",
    "sys.path.insert(0, \"/Users/aimachine/PyImage/utils\")\n",
    "import numpy as np\n",
    "import tensorflow as tf\n",
    "import importlib\n",
    "import matplotlib.pyplot as plt\n",
    "import os\n",
    "import glob\n",
    "import skimage\n",
    "import cv2\n",
    "from skimage import measure\n",
    "from skimage import filters\n",
    "from sklearn.cluster import DBSCAN\n",
    "from skimage.filters import threshold_otsu\n",
    "from tifffile import imread\n",
    "import scipy\n",
    "from sklearn.feature_extraction import image as imp\n",
    "from sklearn.cluster import spectral_clustering\n",
    "from scipy import ndimage\n",
    "import time\n",
    "from Normalize import normalizeFloat, normalizeMinMax, Path, save_tiff_imagej_compatible"
   ]
  },
  {
   "cell_type": "code",
   "execution_count": 12,
   "metadata": {},
   "outputs": [],
   "source": [
    "basedir = '/Users/aimachine/Documents/JuliaData/Julia/Subset/'\n",
    "targetdir = '/Users/aimachine/Documents/JuliaData/Julia/SpectralSegmentedData/'"
   ]
  },
  {
   "cell_type": "code",
   "execution_count": 13,
   "metadata": {},
   "outputs": [
    {
     "name": "stdout",
     "output_type": "stream",
     "text": [
      "Total number of input images =  1\n",
      "Image size =  (2, 254, 256)\n",
      "Time dim =  2\n"
     ]
    }
   ],
   "source": [
    "Path = os.path.join(basedir, '*.tif')\n",
    "X = []\n",
    "Names = []\n",
    "filesRaw = glob.glob(Path)\n",
    "maxtime = 0\n",
    "axes = 'TYX'\n",
    "for fname in filesRaw:\n",
    "      x = imread(fname)\n",
    "      min = np.amin(x)\n",
    "      max = np.amax(x)\n",
    "      x = normalizeMinMax(x, min, max)  \n",
    "      X.append(x)\n",
    "    \n",
    "     \n",
    "      Names.append(fname)\n",
    "      if X[0].shape[0] > maxtime:\n",
    "        maxtime = X[0].shape[0]\n",
    "X.sort\n",
    "Names.sort\n",
    "\n",
    "\n",
    "ReshapeX = []\n",
    "for i in range(len(X)):\n",
    "    y = np.zeros((maxtime, X[0].shape[1], X[0].shape[2]))\n",
    "    image = X[i]\n",
    "    \n",
    "    y[:X[i].shape[0],:,:] = image[:,:,:]\n",
    "    ReshapeX.append(y)\n",
    "    \n",
    "ReshapeX.sort\n",
    "\n",
    "print('Total number of input images = ', len(X))\n",
    "print('Image size = ', X[0].shape)\n",
    "print('Time dim = ', maxtime)\n",
    "\n",
    "timerange = maxtime\n",
    "\n"
   ]
  },
  {
   "cell_type": "code",
   "execution_count": 28,
   "metadata": {},
   "outputs": [],
   "source": [
    "def Clustering(img):\n",
    "    Labels = img\n",
    "    for j in range(timerange):\n",
    "      smallimg = img[j,:,:]\n",
    "      \n",
    "      \"\"\"Put clustering code\"\"\"\n",
    "      graph = imp.img_to_graph(smallimg)\n",
    "      beta = 5\n",
    "      eps = 1e-6\n",
    "      graph.data = np.exp(-beta * graph.data / smallimg.std()) + eps \n",
    "      N_REGIONS = 28\n",
    "    \n",
    "    t0 = time.time()\n",
    "    labels = spectral_clustering(graph, n_clusters=N_REGIONS,\n",
    "                                 assign_labels='discretize',\n",
    "                                 random_state=1)\n",
    "    t1 = time.time()\n",
    "    labels = labels.reshape(smallimg.shape)\n",
    "    print('time taken', t1 - t0)\n",
    "    plt.figure(figsize=(5, 5))\n",
    "    plt.imshow(smallimg,   cmap=plt.cm.gray)\n",
    "    for l in range(N_REGIONS):\n",
    "        plt.contour(labels == l, contours=1,\n",
    "                    colors=[plt.cm.nipy_spectral(l / float(N_REGIONS)), ])\n",
    "       \n",
    "    \n",
    "    "
   ]
  },
  {
   "cell_type": "code",
   "execution_count": null,
   "metadata": {},
   "outputs": [],
   "source": [
    "for i in range(0, len(ReshapeX)):\n",
    "  newimg = ReshapeX[i]\n",
    "  plt.imshow(newimg[0,:,:])\n",
    "  Clustering(newimg)\n",
    "    \n",
    "\n"
   ]
  },
  {
   "cell_type": "code",
   "execution_count": null,
   "metadata": {},
   "outputs": [],
   "source": []
  },
  {
   "cell_type": "code",
   "execution_count": null,
   "metadata": {},
   "outputs": [],
   "source": []
  }
 ],
 "metadata": {
  "kernelspec": {
   "display_name": "Python [conda env:tensorflowpy3pt5]",
   "language": "python",
   "name": "conda-env-tensorflowpy3pt5-py"
  }
 },
 "nbformat": 4,
 "nbformat_minor": 2
}
