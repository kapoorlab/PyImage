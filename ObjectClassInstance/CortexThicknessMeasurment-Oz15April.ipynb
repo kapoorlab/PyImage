{
 "cells": [
  {
   "cell_type": "code",
   "execution_count": 1,
   "metadata": {},
   "outputs": [
    {
     "ename": "ImportError",
     "evalue": "No module named 'Normalize'",
     "output_type": "error",
     "traceback": [
      "\u001b[0;31m---------------------------------------------------------------------------\u001b[0m",
      "\u001b[0;31mImportError\u001b[0m                               Traceback (most recent call last)",
      "\u001b[0;32m<ipython-input-1-55eeca51e0ac>\u001b[0m in \u001b[0;36m<module>\u001b[0;34m()\u001b[0m\n\u001b[1;32m      6\u001b[0m \u001b[0;32mfrom\u001b[0m \u001b[0mtifffile\u001b[0m \u001b[0;32mimport\u001b[0m \u001b[0mimread\u001b[0m\u001b[0;34m\u001b[0m\u001b[0m\n\u001b[1;32m      7\u001b[0m \u001b[0;32mimport\u001b[0m \u001b[0mmatplotlib\u001b[0m\u001b[0;34m.\u001b[0m\u001b[0mpyplot\u001b[0m \u001b[0;32mas\u001b[0m \u001b[0mplt\u001b[0m\u001b[0;34m\u001b[0m\u001b[0m\n\u001b[0;32m----> 8\u001b[0;31m \u001b[0;32mfrom\u001b[0m \u001b[0mNormalize\u001b[0m \u001b[0;32mimport\u001b[0m \u001b[0mnormalizeFloat\u001b[0m\u001b[0;34m,\u001b[0m \u001b[0mnormalizeMinMax\u001b[0m\u001b[0;34m,\u001b[0m \u001b[0mPath\u001b[0m\u001b[0;34m,\u001b[0m \u001b[0msave_tiff_imagej_compatible\u001b[0m\u001b[0;34m\u001b[0m\u001b[0m\n\u001b[0m\u001b[1;32m      9\u001b[0m \u001b[0;32mfrom\u001b[0m \u001b[0mplot_utils\u001b[0m \u001b[0;32mimport\u001b[0m \u001b[0msingleplot\u001b[0m\u001b[0;34m,\u001b[0m \u001b[0mplotXY\u001b[0m\u001b[0;34m,\u001b[0m \u001b[0mdoubleplot\u001b[0m\u001b[0;34m\u001b[0m\u001b[0m\n\u001b[1;32m     10\u001b[0m \u001b[0;32mfrom\u001b[0m \u001b[0mGaussFit\u001b[0m \u001b[0;32mimport\u001b[0m \u001b[0mStripFit\u001b[0m\u001b[0;34m,\u001b[0m \u001b[0mLinescan\u001b[0m\u001b[0;34m\u001b[0m\u001b[0m\n",
      "\u001b[0;31mImportError\u001b[0m: No module named 'Normalize'"
     ]
    }
   ],
   "source": [
    "import sys\n",
    "sys.path.insert(0, \"/Users/oozguc/PyImage/utils\")\n",
    "import numpy as np\n",
    "from PIL import Image\n",
    "import os\n",
    "from tifffile import imread\n",
    "import matplotlib.pyplot as plt\n",
    "from Normalize import normalizeFloat, normalizeMinMax, Path, save_tiff_imagej_compatible\n",
    "from plot_utils import singleplot, plotXY, doubleplot\n",
    "from GaussFit import StripFit, Linescan\n",
    "from HoughLine import show_hough_linetransform, show_ransac_points_line, show_plot\n",
    "from bokeh.models import Label\n",
    "from bokeh.plotting import figure, show, output_notebook\n",
    "from IPython.display import clear_output\n",
    "from bokeh.models import Range1d\n",
    "import csv\n",
    "from GaussFit import MakePath"
   ]
  },
  {
   "cell_type": "code",
   "execution_count": null,
   "metadata": {},
   "outputs": [],
   "source": [
    "targetdir = '/Users/aimachine/Downloads/LineScanTest/'\n",
    "\n",
    "Actinimage = '/Users/aimachine/Downloads/LineScanTest/Ch1LineScan_C1-20180618_mtmgLA_confiner_after1_stack_w1CSU BF-1TrackID1.tif'\n",
    "\n",
    "Membraneimage = '/Users/aimachine/Downloads/LineScanTest/Ch2LineScan_C1-20180618_mtmgLA_confiner_after1_stack_w1CSU BF-1TrackID1.tif'\n",
    "\n",
    "\n",
    "#Enter time unit in seconds\n",
    "Time_unit = 5\n",
    "#Enter pixel to micrometer conversion\n",
    "Xcalibration = 0.1032\n",
    "#Enter the number of pixels to be included in the fit\n",
    "Fitaround= 8\n",
    "\n",
    "#Symmetric psf as input (micrometers)\n",
    "psf = 0.2\n",
    "showaftertime = 10\n",
    "inisigmaguess =  psf\n",
    "#Size of linescan\n",
    "skip = 50\n",
    "singleblock = 80 \n",
    "\n",
    "#Number of segments\n",
    "numsegments = 10\n",
    "id = []\n",
    "for i in range(0, numsegments):\n",
    "    id.append(i)\n",
    "    \n",
    "MakePath(targetdir)    \n",
    "save_dir = targetdir + 'ls_data'    \n",
    "MakePath(save_dir)"
   ]
  },
  {
   "cell_type": "code",
   "execution_count": null,
   "metadata": {
    "scrolled": false
   },
   "outputs": [],
   "source": [
    "Actin = imread(Actinimage)\n",
    "Membrane = imread(Membraneimage)\n",
    "\n",
    "doubleplot(Actin, Membrane, 'Actin Channel', 'Membrane Channel')\n",
    "blockimageActin = []\n",
    "blockimageMembrane = []\n",
    "\n",
    "i = 0\n",
    "while i < Actin.shape[0]:\n",
    "       \n",
    "   blockActin = Actin[i:i + singleblock,:]\n",
    "   blockMembrane = Membrane[i:i + singleblock,:]\n",
    "   \n",
    "   blockimageActin.append(blockActin)\n",
    "   blockimageMembrane.append(blockMembrane)\n",
    "   doubleplot(blockActin, blockMembrane, 'Actin Channel', 'Membrane Channel')\n",
    "   i = i + singleblock + skip \n",
    "\n",
    "halflength = int(len(blockimageActin)/2)\n",
    "otherhalf = len(blockimageActin) - halflength\n",
    "totallength = len(blockimageActin)\n"
   ]
  },
  {
   "cell_type": "code",
   "execution_count": null,
   "metadata": {
    "scrolled": false
   },
   "outputs": [],
   "source": [
    "\n"
   ]
  },
  {
   "cell_type": "code",
   "execution_count": null,
   "metadata": {},
   "outputs": [],
   "source": []
  },
  {
   "cell_type": "code",
   "execution_count": null,
   "metadata": {
    "scrolled": false
   },
   "outputs": [],
   "source": [
    "%%time\n",
    "#Fit all blocks\n",
    "\n",
    "Thickness = []\n",
    "Time = []\n",
    "for i in range(0, totallength):\n",
    " print('block id', i+1)   \n",
    " Actin = blockimageActin[i]\n",
    " Membrane = blockimageMembrane[i]\n",
    " \n",
    " StripFit(Actin, Membrane, Time_unit, Xcalibration, Fitaround, psf, inisigmaguess, showaftertime, Thickness, Time)\n",
    " \n",
    "\n",
    "\n",
    " print(\"Thickness (min)\",np.min(Thickness) *1000, \"nm\")\n",
    " print(\"Thickness (median)\",np.median(Thickness) *1000, \"nm\")\n",
    " print(\"Thickness (max)\",np.max(Thickness) *1000, \"nm\")\n",
    " Thickness_time = np.column_stack([Time, Thickness]) \n",
    "\n",
    " show_ransac_points_line(Thickness_time, min_samples=2, residual_threshold=0.5, max_trials=1000, Xrange = Time[-1], displayoutlier = False)\n",
    "    \n",
    "    \n",
    "\n",
    " hist, edges = np.histogram((Thickness), density=False, bins='auto')\n",
    " p = figure(title=\"Estimated Cortex Thickness = \" + str('%.5f'%np.abs(edges[np.argmax(hist)] * 1000)) + 'nm', y_axis_label='Counts',x_axis_label='Thickness(um)',x_range=Range1d(0.01, 0.2))\n",
    " listedges = edges.tolist()\n",
    " listhist = hist.tolist()\n",
    " output_notebook()\n",
    " p.quad(top=hist, bottom=0, left=edges[:-1], right=edges[1:],\n",
    "    fill_color=\"#036564\", line_color=\"#033649\")\n",
    " for  i in range(0,len(listhist)):\n",
    "  if listhist[i] > 0:\n",
    "   mytext = Label(x=listedges[i], y=listhist[i], text=str('%.4f'%listedges[i]))\n",
    "   p.add_layout(mytext)\n",
    " show(p)\n",
    "\n",
    " clear_output(wait = True)\n",
    "    \n"
   ]
  },
  {
   "cell_type": "code",
   "execution_count": null,
   "metadata": {
    "scrolled": false
   },
   "outputs": [],
   "source": [
    "show_ransac_points_line(Thickness_time, min_samples=2, residual_threshold=0.5, max_trials=1000, Xrange = Time[-1], displayoutlier = False)\n",
    "    \n",
    "    \n",
    "\n",
    "hist, edges = np.histogram((Thickness), density=False, bins='auto')\n",
    "p = figure(title=\"Estimated Cortex Thickness = \" + str('%.5f'%np.abs(edges[np.argmax(hist)] * 1000)) + 'nm', y_axis_label='Counts',x_axis_label='Thickness(um)',x_range=Range1d(0.01, 0.2))\n",
    "listedges = edges.tolist()\n",
    "listhist = hist.tolist()\n",
    "output_notebook()\n",
    "p.quad(top=hist, bottom=0, left=edges[:-1], right=edges[1:],\n",
    "    fill_color=\"#036564\", line_color=\"#033649\")\n",
    "for  i in range(0,len(listhist)):\n",
    "  if listhist[i] > 0:\n",
    "   mytext = Label(x=listedges[i], y=listhist[i], text=str('%.4f'%listedges[i]))\n",
    "   p.add_layout(mytext)\n",
    "show(p)    \n"
   ]
  },
  {
   "cell_type": "code",
   "execution_count": null,
   "metadata": {},
   "outputs": [],
   "source": [
    "\n",
    "master_data= []\n",
    "\n",
    "Path(save_dir).mkdir(exist_ok = True)\n",
    "\n",
    "for line in Thickness_time:\n",
    "    master_data.append(line)\n",
    "writer = csv.writer(open(save_dir + \"/\" + (os.path.basename(Actinimage))  +\".csv\", \"w\"))\n",
    "writer.writerows(master_data)  "
   ]
  },
  {
   "cell_type": "code",
   "execution_count": null,
   "metadata": {},
   "outputs": [],
   "source": []
  },
  {
   "cell_type": "code",
   "execution_count": null,
   "metadata": {},
   "outputs": [],
   "source": []
  }
 ],
 "metadata": {
  "kernelspec": {
   "display_name": "Python [conda env:tensorflowpy3pt5]",
   "language": "python",
   "name": "conda-env-tensorflowpy3pt5-py"
  },
  "language_info": {
   "codemirror_mode": {
    "name": "ipython",
    "version": 3
   },
   "file_extension": ".py",
   "mimetype": "text/x-python",
   "name": "python",
   "nbconvert_exporter": "python",
   "pygments_lexer": "ipython3",
   "version": "3.5.5"
  }
 },
 "nbformat": 4,
 "nbformat_minor": 2
}
