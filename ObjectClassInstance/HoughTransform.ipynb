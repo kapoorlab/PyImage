{
 "cells": [
  {
   "cell_type": "code",
   "execution_count": 1,
   "metadata": {},
   "outputs": [],
   "source": [
    "import sys\n",
    "sys.path.insert(0, \"/Users/aimachine/PyImage/utils\")\n",
    "import numpy as np\n",
    "from scipy import signal\n",
    "import scipy.fftpack as fftpack\n",
    "from scipy.fftpack import fftfreq\n",
    "import matplotlib.pyplot as plt\n",
    "import os\n",
    "import math\n",
    "import cv2 as cv\n",
    "from scipy.signal import blackman\n",
    "from tifffile import imread\n",
    "from mpl_toolkits.mplot3d import Axes3D\n",
    "import matplotlib.pyplot as plt\n",
    "from matplotlib import cm\n",
    "from matplotlib.ticker import LinearLocator, FormatStrFormatter\n",
    "from scipy.fftpack import fft\n",
    "from matplotlib.colors import LogNorm\n",
    "from Normalize import normalizeFloat, normalizeMinMax, Path, save_tiff_imagej_compatible"
   ]
  },
  {
   "cell_type": "code",
   "execution_count": 2,
   "metadata": {},
   "outputs": [],
   "source": [
    "targetdir = '/Users/aimachine/Documents/JLMCurvature/FFTImageTest/'\n",
    "sourceimage = '/Users/aimachine/Documents/JLMCurvature/FFTImageTest/BinaryFullResolution.tif'\n",
    "\n",
    "base = os.path.split(sourceimage)[-1]\n",
    "\n",
    "Filename = os.path.splitext(base)"
   ]
  },
  {
   "cell_type": "code",
   "execution_count": 8,
   "metadata": {},
   "outputs": [
    {
     "name": "stdout",
     "output_type": "stream",
     "text": [
      "57.289790447031756\n",
      "28.63629163760548\n",
      "28.63629163760548\n",
      "28.63629163760548\n",
      "28.63629163760548\n",
      "57.289790447031756\n",
      "57.289790447031756\n",
      "57.289790447031756\n",
      "57.289790447031756\n",
      "57.289790447031756\n",
      "-28.63625350492282\n"
     ]
    }
   ],
   "source": [
    "src = imread(sourceimage)\n",
    "dst = cv.Canny(src, 50, 200, None, 3)\n",
    "    \n",
    "# Copy edges to the images that will display the results in BGR\n",
    "cdst = cv.cvtColor(dst, cv.COLOR_GRAY2BGR)\n",
    "cdstP = np.copy(cdst)\n",
    "    \n",
    "lines = cv.HoughLines(dst, 1, np.pi / 180, 150, None, 0, 0)\n",
    "    \n",
    "if lines is not None:\n",
    "        for i in range(0, len(lines)):\n",
    "            rho = lines[i][0][0]\n",
    "            theta = lines[i][0][1]\n",
    "            a = math.cos(theta)\n",
    "            b = math.sin(theta)\n",
    "            x0 = a * rho\n",
    "            y0 = b * rho\n",
    "            pt1 = (int(x0 + 1000*(-b)), int(y0 + 1000*(a)))\n",
    "            pt2 = (int(x0 - 1000*(-b)), int(y0 - 1000*(a)))\n",
    "            cv.line(cdst, pt1, pt2, (0,0,255), 3, cv.LINE_AA)\n",
    "            if b!=0:\n",
    "             print(-a / b)\n",
    "    \n",
    "linesP = cv.HoughLinesP(dst, 1, np.pi / 180, 50, None, 50, 10)\n",
    "    \n",
    "if linesP is not None:\n",
    "        for i in range(0, len(linesP)):\n",
    "            l = linesP[i][0]\n",
    "            cv.line(cdstP, (l[0], l[1]), (l[2], l[3]), (0,0,255), 3, cv.LINE_AA)\n",
    "    \n",
    "cv.imshow(\"Source\", src)\n",
    "cv.imshow(\"Detected Lines (in red) - Standard Hough Line Transform\", cdst)\n",
    "cv.imshow(\"Detected Lines (in red) - Probabilistic Line Transform\", cdstP)"
   ]
  },
  {
   "cell_type": "code",
   "execution_count": null,
   "metadata": {},
   "outputs": [],
   "source": []
  }
 ],
 "metadata": {
  "kernelspec": {
   "display_name": "Python [default]",
   "language": "python",
   "name": "python3"
  },
  "language_info": {
   "codemirror_mode": {
    "name": "ipython",
    "version": 3
   },
   "file_extension": ".py",
   "mimetype": "text/x-python",
   "name": "python",
   "nbconvert_exporter": "python",
   "pygments_lexer": "ipython3",
   "version": "3.6.5"
  }
 },
 "nbformat": 4,
 "nbformat_minor": 2
}
