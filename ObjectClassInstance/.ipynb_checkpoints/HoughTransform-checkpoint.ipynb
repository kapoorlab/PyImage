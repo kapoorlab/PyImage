{
 "cells": [
  {
   "cell_type": "code",
   "execution_count": 13,
   "metadata": {},
   "outputs": [],
   "source": [
    "import sys\n",
    "sys.path.insert(0, \"/Users/aimachine/PyImage/utils\")\n",
    "import numpy as np\n",
    "from scipy import signal\n",
    "import scipy.fftpack as fftpack\n",
    "from scipy.fftpack import fftfreq\n",
    "import matplotlib.pyplot as plt\n",
    "import os\n",
    "import math\n",
    "import cv2 as cv\n",
    "from skimage import data, color, io, img_as_float\n",
    "from skimage.transform import (hough_line, hough_line_peaks,\n",
    "                               probabilistic_hough_line)\n",
    "from scipy.ndimage.morphology import binary_dilation, binary_erosion\n",
    "from skimage.feature import canny\n",
    "from scipy.signal import blackman\n",
    "from tifffile import imread\n",
    "from mpl_toolkits.mplot3d import Axes3D\n",
    "import matplotlib.pyplot as plt\n",
    "from matplotlib import cm\n",
    "from matplotlib.ticker import LinearLocator, FormatStrFormatter\n",
    "from scipy.fftpack import fft\n",
    "from plot_utils import multiplot\n",
    "from matplotlib.colors import LogNorm\n",
    "from skimage.filters import threshold_mean, sobel\n",
    "from skimage.filters import threshold_otsu, threshold_local\n",
    "from skimage import feature\n",
    "from Normalize import normalizeFloat, normalizeMinMax, Path, save_tiff_imagej_compatible"
   ]
  },
  {
   "cell_type": "code",
   "execution_count": 14,
   "metadata": {},
   "outputs": [],
   "source": [
    "targetdir = '/Users/aimachine/Documents/KymoGraphsForFFT/NewKymographs'\n",
    "sourceimage = '/Users/aimachine/Documents/KymoGraphsForFFT/NewKymographs/KymographN5Circle.tif'\n",
    "\n",
    "base = os.path.split(sourceimage)[-1]\n",
    "\n",
    "Filename = os.path.splitext(base)"
   ]
  },
  {
   "cell_type": "code",
   "execution_count": 15,
   "metadata": {},
   "outputs": [],
   "source": [
    "Xcalibration = 0.212\n",
    "Tcalibration = 5\n",
    "#Enter start y pixel unit for the section\n",
    "StartSection = 0\n",
    "#Enter end y pixel unit for section\n",
    "EndSection = 600\n",
    "#Enter start y pixel unit for the section\n",
    "TStartSection = 0\n",
    "\n",
    "\n",
    "axes = 'XY'"
   ]
  },
  {
   "cell_type": "code",
   "execution_count": 21,
   "metadata": {},
   "outputs": [
    {
     "name": "stdout",
     "output_type": "stream",
     "text": [
      "0.04855988 0.056924164 0.0\n"
     ]
    },
    {
     "data": {
      "image/png": "[encoded data removed]",
      "text/plain": [
       "<Figure size 432x288 with 1 Axes>"
      ]
     },
     "metadata": {},
     "output_type": "display_data"
    }
   ],
   "source": [
    "image = imread(sourceimage)\n",
    "cutimage = image[StartSection:EndSection, :]\n",
    "plt.figure()\n",
    "plt.imshow(cutimage, plt.cm.Spectral)\n",
    "plt.title('Original image')\n",
    "#Make Binary\n",
    "\n",
    "max = np.amax(cutimage)\n",
    "min = np.amin(cutimage)\n",
    "thresh = threshold_mean(cutimage)\n",
    "print(thresh, max, min)\n",
    " \n",
    "binary = cutimage > thresh\n",
    "\n",
    "\n",
    "\n",
    "h, theta, d = hough_line(binary)"
   ]
  },
  {
   "cell_type": "code",
   "execution_count": 27,
   "metadata": {},
   "outputs": [
    {
     "ename": "SyntaxError",
     "evalue": "invalid syntax (<ipython-input-27-0b2aac44c94f>, line 17)",
     "output_type": "error",
     "traceback": [
      "\u001b[0;36m  File \u001b[0;32m\"<ipython-input-27-0b2aac44c94f>\"\u001b[0;36m, line \u001b[0;32m17\u001b[0m\n\u001b[0;31m    ax[2].imshow(binary^, cmap=cm.gray)\u001b[0m\n\u001b[0m                        ^\u001b[0m\n\u001b[0;31mSyntaxError\u001b[0m\u001b[0;31m:\u001b[0m invalid syntax\n"
     ]
    }
   ],
   "source": [
    "# Generating figure 1\n",
    "fig, axes = plt.subplots(1, 3, figsize=(15, 6))\n",
    "ax = axes.ravel()\n",
    "\n",
    "ax[0].imshow(cutimage, cmap=cm.Spectral)\n",
    "ax[0].set_title('Input image')\n",
    "ax[0].set_axis_off()\n",
    "\n",
    "ax[1].imshow(np.log(1 + h),\n",
    "             extent=[np.rad2deg(theta[-1]), np.rad2deg(theta[0]), d[-1], d[0]],\n",
    "             cmap=cm.gray, aspect=1/1.5)\n",
    "ax[1].set_title('Hough transform')\n",
    "ax[1].set_xlabel('Angles (degrees)')\n",
    "ax[1].set_ylabel('Distance (pixels)')\n",
    "ax[1].axis('image')\n",
    "\n",
    "ax[2].imshow(binary, cmap=cm.gray)\n",
    "for _, angle, dist in zip(*hough_line_peaks(h, theta, d)):\n",
    "    y0 = (dist - 0 * np.cos(angle)) / np.sin(angle)\n",
    "    y1 = (dist - binary.shape[1] * np.cos(angle)) / np.sin(angle)\n",
    "    slope =  -np.cos(angle) / np.sin(angle) * Xcalibration / Tcalibration\n",
    "    #Draw high slopes\n",
    "    if np.abs(slope) > 0.6:\n",
    "     print(\"Slope Values found : \" ,slope  )\n",
    "    \n",
    "     ax[2].plot((0, binary.shape[1]), (y0, y1), '-r')\n",
    "    \n",
    "ax[2].set_xlim((0, binary.shape[1]))\n",
    "ax[2].set_ylim((binary.shape[0], 0))\n",
    "ax[2].set_axis_off()\n",
    "ax[2].set_title('Detected lines')\n",
    "\n",
    "plt.tight_layout()\n",
    "plt.show()\n",
    "\n",
    "\n",
    "\n",
    "for a in ax:\n",
    "    a.set_axis_off()\n",
    "\n",
    "\n",
    "\n",
    "\n"
   ]
  },
  {
   "cell_type": "code",
   "execution_count": null,
   "metadata": {},
   "outputs": [],
   "source": []
  },
  {
   "cell_type": "code",
   "execution_count": null,
   "metadata": {},
   "outputs": [],
   "source": []
  }
 ],
 "metadata": {
  "kernelspec": {
   "display_name": "Python [default]",
   "language": "python",
   "name": "python3"
  },
  "language_info": {
   "codemirror_mode": {
    "name": "ipython",
    "version": 3
   },
   "file_extension": ".py",
   "mimetype": "text/x-python",
   "name": "python",
   "nbconvert_exporter": "python",
   "pygments_lexer": "ipython3",
   "version": "3.6.5"
  }
 },
 "nbformat": 4,
 "nbformat_minor": 2
}
