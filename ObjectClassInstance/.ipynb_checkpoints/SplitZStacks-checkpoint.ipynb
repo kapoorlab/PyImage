{
 "cells": [
  {
   "cell_type": "code",
   "execution_count": 10,
   "metadata": {},
   "outputs": [],
   "source": [
    "import sys\n",
    "sys.path.insert(0, \"/Users/aimachine/PyImage/utils\")\n",
    "import numpy as np\n",
    "\n",
    "import importlib\n",
    "import matplotlib.pyplot as plt\n",
    "import os\n",
    "import glob\n",
    "import skimage\n",
    "from skimage import measure\n",
    "from skimage import filters\n",
    "from Normalize import normalizeFloat, normalizeMinMax, Path, save_tiff_imagej_compatible\n",
    "from skimage.filters import threshold_otsu\n",
    "from tifffile import imread"
   ]
  },
  {
   "cell_type": "code",
   "execution_count": 15,
   "metadata": {},
   "outputs": [],
   "source": [
    "basedir = '/Volumes/u934/service_imagerie/v_kapoor/Fl4-2-Var/TO_test/projected_based_on_CAREmodel/'\n",
    "targetdir =  '/Users/aimachine/Downloads/GrantApplication/Projection/Split/'"
   ]
  },
  {
   "cell_type": "code",
   "execution_count": 16,
   "metadata": {},
   "outputs": [
    {
     "name": "stdout",
     "output_type": "stream",
     "text": [
      "Total number of input images =  0\n"
     ]
    },
    {
     "ename": "IndexError",
     "evalue": "list index out of range",
     "output_type": "error",
     "traceback": [
      "\u001b[0;31m---------------------------------------------------------------------------\u001b[0m",
      "\u001b[0;31mIndexError\u001b[0m                                Traceback (most recent call last)",
      "\u001b[0;32m<ipython-input-16-a2b8dd29618b>\u001b[0m in \u001b[0;36m<module>\u001b[0;34m()\u001b[0m\n\u001b[1;32m     20\u001b[0m \u001b[0mCommonName\u001b[0m \u001b[0;34m=\u001b[0m \u001b[0;34m'40x_bin1_05_5min_1_w2CSU-488_s7_t'\u001b[0m\u001b[0;34m\u001b[0m\u001b[0m\n\u001b[1;32m     21\u001b[0m \u001b[0mprint\u001b[0m\u001b[0;34m(\u001b[0m\u001b[0;34m'Total number of input images = '\u001b[0m\u001b[0;34m,\u001b[0m \u001b[0mlen\u001b[0m\u001b[0;34m(\u001b[0m\u001b[0mBigZ\u001b[0m\u001b[0;34m)\u001b[0m\u001b[0;34m)\u001b[0m\u001b[0;34m\u001b[0m\u001b[0m\n\u001b[0;32m---> 22\u001b[0;31m \u001b[0mprint\u001b[0m\u001b[0;34m(\u001b[0m\u001b[0;34m'Image size = '\u001b[0m\u001b[0;34m,\u001b[0m \u001b[0mBigZ\u001b[0m\u001b[0;34m[\u001b[0m\u001b[0;36m0\u001b[0m\u001b[0;34m]\u001b[0m\u001b[0;34m.\u001b[0m\u001b[0mshape\u001b[0m\u001b[0;34m)\u001b[0m\u001b[0;34m\u001b[0m\u001b[0m\n\u001b[0m",
      "\u001b[0;31mIndexError\u001b[0m: list index out of range"
     ]
    }
   ],
   "source": [
    "Path = os.path.join(basedir, '*.tif')\n",
    "BigZ = []\n",
    "Names = []\n",
    "filesRaw = glob.glob(Path)\n",
    "maxtime = 0\n",
    "axes = 'YX'\n",
    "for fname in filesRaw:\n",
    "      x = imread(fname)\n",
    "     \n",
    "      \n",
    "      BigZ.append(x)\n",
    "   \n",
    "     \n",
    "      Names.append(fname)\n",
    "      \n",
    "    \n",
    "BigZ.sort\n",
    "Names.sort\n",
    "\n",
    "CommonName = '40x_bin1_05_5min_1_w2CSU-488_s7_t'\n",
    "print('Total number of input images = ', len(BigZ))\n",
    "print('Image size = ', BigZ[0].shape)"
   ]
  },
  {
   "cell_type": "code",
   "execution_count": null,
   "metadata": {},
   "outputs": [],
   "source": [
    "for i in range(0, len(BigZ)):\n",
    "  img = BigZ[i]\n",
    "  for j in range(0, img.shape[0]):\n",
    "    smalliomg = img[j,:,:]\n",
    "    save_tiff_imagej_compatible((targetdir + CommonName + str(j)+ '.tif') , img, axes)"
   ]
  },
  {
   "cell_type": "code",
   "execution_count": null,
   "metadata": {},
   "outputs": [],
   "source": []
  }
 ],
 "metadata": {
  "kernelspec": {
   "display_name": "Python [conda env:tensorflowpy3pt5]",
   "language": "python",
   "name": "conda-env-tensorflowpy3pt5-py"
  }
 },
 "nbformat": 4,
 "nbformat_minor": 2
}
