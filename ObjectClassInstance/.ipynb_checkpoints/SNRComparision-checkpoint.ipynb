{
 "cells": [
  {
   "cell_type": "code",
   "execution_count": 4,
   "metadata": {},
   "outputs": [],
   "source": [
    "import sys\n",
    "sys.path.insert(0, \"/Users/aimachine/PyImage/utils\")\n",
    "import numpy as np\n",
    "\n",
    "import importlib\n",
    "import matplotlib.pyplot as plt\n",
    "import os\n",
    "import glob\n",
    "import skimage\n",
    "from skimage import measure\n",
    "from skimage import filters\n",
    "from Normalize import normalizeFloat, normalizeMinMax, Path, save_tiff_imagej_compatible\n",
    "from skimage.filters import threshold_otsu\n",
    "from tifffile import imread\n",
    "import scipy\n",
    "from scipy import ndimage\n",
    "from skimage.measure import compare_ssim as ssim\n",
    "from bokeh.models import Label\n",
    "from bokeh.io import output_file, show\n",
    "from bokeh.plotting import figure\n",
    "from bokeh.io import export_png, output_notebook\n",
    "from scipy import stats\n",
    "from skimage.measure import compare_ssim as ssim"
   ]
  },
  {
   "cell_type": "code",
   "execution_count": 5,
   "metadata": {},
   "outputs": [],
   "source": [
    "Lowbasedir = '/Users/aimachine/Downloads/GrantApplication/StructureSimilarity/SmallLow/'\n",
    "GTbasedir = '/Users/aimachine/Downloads/GrantApplication/StructureSimilarity/SmallGT/'\n",
    "Restoredbasedir = '/Users/aimachine/Downloads/GrantApplication/StructureSimilarity/SmallRestored/'"
   ]
  },
  {
   "cell_type": "code",
   "execution_count": 6,
   "metadata": {},
   "outputs": [
    {
     "name": "stdout",
     "output_type": "stream",
     "text": [
      "/Users/aimachine/Downloads/GrantApplication/StructureSimilarity/SmallLow/40x_bin1_05_5min_s1-4Cg_s5-6esg_1_w2CSU-488_s1_t28.tif\n",
      "/Users/aimachine/Downloads/GrantApplication/StructureSimilarity/SmallLow/40x_bin1_05_5min_s1-4Cg_s5-6esg_1_w2CSU-488_s1_t29.tif\n",
      "/Users/aimachine/Downloads/GrantApplication/StructureSimilarity/SmallLow/40x_bin1_05_5min_s1-4Cg_s5-6esg_1_w2CSU-488_s1_t34.tif\n",
      "/Users/aimachine/Downloads/GrantApplication/StructureSimilarity/SmallLow/40x_bin1_05_5min_s1-4Cg_s5-6esg_1_w2CSU-488_s1_t27.tif\n",
      "/Users/aimachine/Downloads/GrantApplication/StructureSimilarity/SmallLow/40x_bin1_05_5min_s1-4Cg_s5-6esg_1_w2CSU-488_s1_t33.tif\n",
      "/Users/aimachine/Downloads/GrantApplication/StructureSimilarity/SmallLow/40x_bin1_05_5min_s1-4Cg_s5-6esg_1_w2CSU-488_s1_t32.tif\n",
      "/Users/aimachine/Downloads/GrantApplication/StructureSimilarity/SmallLow/40x_bin1_05_5min_s1-4Cg_s5-6esg_1_w2CSU-488_s1_t26.tif\n",
      "/Users/aimachine/Downloads/GrantApplication/StructureSimilarity/SmallLow/40x_bin1_05_5min_s1-4Cg_s5-6esg_1_w2CSU-488_s1_t30.tif\n",
      "/Users/aimachine/Downloads/GrantApplication/StructureSimilarity/SmallLow/40x_bin1_05_5min_s1-4Cg_s5-6esg_1_w2CSU-488_s1_t25.tif\n",
      "/Users/aimachine/Downloads/GrantApplication/StructureSimilarity/SmallLow/40x_bin1_05_5min_s1-4Cg_s5-6esg_1_w2CSU-488_s1_t31.tif\n",
      "10 10 10\n"
     ]
    }
   ],
   "source": [
    "LowPath = os.path.join(Lowbasedir, '*.tif')\n",
    "GTPath = os.path.join(GTbasedir, '*.tif')\n",
    "RestoredPath = os.path.join(Restoredbasedir, '*.tif')\n",
    "AllLow = []\n",
    "AllGT = []\n",
    "AllRestored = []\n",
    "Names = []\n",
    "filesLow = glob.glob(LowPath)\n",
    "filesGT = glob.glob(GTPath)\n",
    "filesRestored = glob.glob(RestoredPath)\n",
    "\n",
    "\n",
    "for fname in filesLow:\n",
    "      x = imread(fname)\n",
    "      \"\"\"Normalize\"\"\"\n",
    "      x = normalizeFloat(x)\n",
    "      AllLow.append(x) \n",
    "      print(fname)\n",
    "      for filenameGT in filesGT:\n",
    "       \n",
    "        if os.path.basename(filenameGT) ==  os.path.basename(fname):\n",
    "                  x = imread(filenameGT)\n",
    "                  filesGT.remove(filenameGT)\n",
    "                  \"\"\"Normalize\"\"\"\n",
    "                  x = normalizeFloat(x)\n",
    "                  AllGT.append(x)\n",
    "      for filenameRestored in filesRestored:\n",
    "  \n",
    "        if os.path.basename(filenameRestored) == 'BorialisS1S2FlorisMidNoiseModel_' + os.path.basename(fname):\n",
    "                  x = imread(filenameRestored)\n",
    "                  filesRestored.remove(filenameRestored)\n",
    "                  \"\"\"Normalize\"\"\"\n",
    "                  x = normalizeFloat(x)\n",
    "                  AllRestored.append(x)  \n",
    "     \n",
    "      Names.append(fname)\n",
    "\n",
    "\n",
    "AllLow.sort\n",
    "AllGT.sort\n",
    "AllRestored.sort\n",
    "Names.sort\n",
    "print(len(AllLow), len(AllRestored), len(AllGT))"
   ]
  },
  {
   "cell_type": "code",
   "execution_count": 7,
   "metadata": {},
   "outputs": [],
   "source": [
    "Z = AllLow[0].shape[0]"
   ]
  },
  {
   "cell_type": "code",
   "execution_count": 8,
   "metadata": {},
   "outputs": [],
   "source": [
    "def mse(x, y):\n",
    "    return np.linalg.norm(x - y)"
   ]
  },
  {
   "cell_type": "code",
   "execution_count": 9,
   "metadata": {},
   "outputs": [
    {
     "ename": "AttributeError",
     "evalue": "module 'scipy.stats' has no attribute 'signaltonoise'",
     "output_type": "error",
     "traceback": [
      "\u001b[0;31m---------------------------------------------------------------------------\u001b[0m",
      "\u001b[0;31mAttributeError\u001b[0m                            Traceback (most recent call last)",
      "\u001b[0;32m<ipython-input-9-3dfdf8e92f8f>\u001b[0m in \u001b[0;36m<module>\u001b[0;34m()\u001b[0m\n\u001b[1;32m     25\u001b[0m \u001b[0;34m\u001b[0m\u001b[0m\n\u001b[1;32m     26\u001b[0m       \u001b[0msmallGTMSE\u001b[0m \u001b[0;34m=\u001b[0m \u001b[0mmse\u001b[0m\u001b[0;34m(\u001b[0m\u001b[0msmallGTimg\u001b[0m\u001b[0;34m,\u001b[0m \u001b[0msmallLowimg\u001b[0m\u001b[0;34m)\u001b[0m\u001b[0;34m\u001b[0m\u001b[0m\n\u001b[0;32m---> 27\u001b[0;31m       \u001b[0msmallLowssim\u001b[0m \u001b[0;34m=\u001b[0m \u001b[0mstats\u001b[0m\u001b[0;34m.\u001b[0m\u001b[0msignaltonoise\u001b[0m\u001b[0;34m(\u001b[0m\u001b[0msmallLowimg\u001b[0m\u001b[0;34m,\u001b[0m \u001b[0maxis\u001b[0m\u001b[0;34m=\u001b[0m\u001b[0;32mNone\u001b[0m\u001b[0;34m)\u001b[0m\u001b[0;34m\u001b[0m\u001b[0m\n\u001b[0m\u001b[1;32m     28\u001b[0m       \u001b[0msmallLowssim\u001b[0m \u001b[0;34m=\u001b[0m \u001b[0mstats\u001b[0m\u001b[0;34m.\u001b[0m\u001b[0msignaltonoise\u001b[0m\u001b[0;34m(\u001b[0m\u001b[0msmallGTimg\u001b[0m\u001b[0;34m,\u001b[0m \u001b[0maxis\u001b[0m\u001b[0;34m=\u001b[0m\u001b[0;32mNone\u001b[0m\u001b[0;34m)\u001b[0m\u001b[0;34m\u001b[0m\u001b[0m\n\u001b[1;32m     29\u001b[0m \u001b[0;34m\u001b[0m\u001b[0m\n",
      "\u001b[0;31mAttributeError\u001b[0m: module 'scipy.stats' has no attribute 'signaltonoise'"
     ]
    }
   ],
   "source": [
    "\n",
    "GTMSE = []\n",
    "RestoredMSE = []\n",
    "\n",
    "LowSNR = []\n",
    "GTSNR = []\n",
    "RestoredSNR = []\n",
    "min = 0;\n",
    "max = 1;\n",
    "\n",
    "\n",
    "for i in range(0, len(AllLow)):\n",
    " Low = AllLow[i]\n",
    " GT = AllGT[i]\n",
    " Restored = AllRestored[i]\n",
    "\n",
    " for j in range(Z):\n",
    "      smallLowimg = Low[j,:,:]\n",
    "      smallGTimg = GT[j,:,:]\n",
    "      smallRestoredimg = Restored[j,:,:]\n",
    "\n",
    "\n",
    "     \n",
    "\n",
    "    \n",
    "      smallGTMSE = mse(smallGTimg, smallLowimg)\n",
    "      smallLowssim = ssim(smallGTimg, smallLowimg, data_range=smallLowimg.max() - smallLowimg.min())\n",
    "     \n",
    "      \n",
    "      GTMSE.append(smallGTMSE)\n",
    "      LowSNR.append(smallLowssim)\n",
    "     \n",
    "        \n",
    "      smallRestoredMSE = mse(smallGTimg, smallRestoredimg)\n",
    "      smallRestoredssim = ssim(smallGTimg, smallRestoredimg, data_range=smallRestoredimg.max() - smallRestoredimg.min())\n",
    "      RestoredMSE.append(smallRestoredMSE)\n",
    "      RestoredSNR.append(smallRestoredssim)  \n",
    "      "
   ]
  },
  {
   "cell_type": "code",
   "execution_count": null,
   "metadata": {},
   "outputs": [],
   "source": [
    "hist, edges = np.histogram(np.abs(GTMSE), density=False, bins='auto')\n",
    "p = figure(title=\"Max Count MeanSquared Error (Low/GT) = \" + str('%.3f'%edges[np.argmax(hist)]), y_axis_label='Counts',x_axis_label='MSE')\n",
    "listedges = edges.tolist()\n",
    "listhist = hist.tolist()\n",
    "\n",
    "p.quad(top=hist, bottom=0, left=edges[:-1], right=edges[1:],\n",
    "    fill_color=\"#036564\", line_color=\"#033649\")\n",
    "for  i in range(0,len(listhist)):\n",
    " if listhist[i] > 0:\n",
    "  mytext = Label(x=listedges[i], y=listhist[i], text=str('%.2f'%listedges[i]))\n",
    "  p.add_layout(mytext)\n",
    "output_notebook()    \n",
    "show(p)\n",
    "\n",
    "hist, edges = np.histogram(np.abs(RestoredMSE), density=False, bins='auto')\n",
    "p = figure(title=\"Max Count MeanSquared Error(Restored/GT) = \" + str('%.3f'%edges[np.argmax(hist)]), y_axis_label='Counts',x_axis_label='MSE')\n",
    "listedges = edges.tolist()\n",
    "listhist = hist.tolist()\n",
    "\n",
    "p.quad(top=hist, bottom=0, left=edges[:-1], right=edges[1:],\n",
    "    fill_color=\"#036564\", line_color=\"#033649\")\n",
    "for  i in range(0,len(listhist)):\n",
    " if listhist[i] > 0:\n",
    "  mytext = Label(x=listedges[i], y=listhist[i], text=str('%.2f'%listedges[i]))\n",
    "  p.add_layout(mytext)\n",
    "output_notebook()    \n",
    "show(p)\n",
    "\n",
    "\n",
    "\n",
    "\n"
   ]
  },
  {
   "cell_type": "code",
   "execution_count": null,
   "metadata": {},
   "outputs": [],
   "source": [
    "hist, edges = np.histogram(np.abs(LowSNR), density=False, bins='auto')\n",
    "p = figure(title=\"Max Count SIM(Low) = \" + str('%.3f'%edges[np.argmax(hist)]), y_axis_label='Counts',x_axis_label='SIM')\n",
    "listedges = edges.tolist()\n",
    "listhist = hist.tolist()\n",
    "\n",
    "p.quad(top=hist, bottom=0, left=edges[:-1], right=edges[1:],\n",
    "    fill_color=\"#036564\", line_color=\"#033649\")\n",
    "sum = 0\n",
    "for  i in range(0,len(listhist)):\n",
    " if listhist[i] > 0:\n",
    "  mytext = Label(x=listedges[i], y=listhist[i], text=str('%.2f'%listedges[i]))\n",
    "  sum = sum + listedges[i]/listhist[i]\n",
    "  p.add_layout(mytext)\n",
    "\n",
    "output_notebook()    \n",
    "show(p)\n",
    "print(sum)\n",
    "\n",
    "\n",
    "\n",
    "hist, edges = np.histogram(np.abs(RestoredSNR), density=False, bins='auto')\n",
    "p = figure(title=\"Max Count SIM(Restored) = \" + str('%.3f'%edges[np.argmax(hist)]), y_axis_label='Counts',x_axis_label='SIM')\n",
    "listedges = edges.tolist()\n",
    "listhist = hist.tolist()\n",
    "\n",
    "p.quad(top=hist, bottom=0, left=edges[:-1], right=edges[1:],\n",
    "    fill_color=\"#036564\", line_color=\"#033649\")\n",
    "sum = 0\n",
    "for  i in range(0,len(listhist)):\n",
    " if listhist[i] > 0:\n",
    "  mytext = Label(x=listedges[i], y=listhist[i], text=str('%.2f'%listedges[i]))\n",
    "  sum = sum + listedges[i]/listhist[i]\n",
    "  p.add_layout(mytext)\n",
    "\n",
    "output_notebook()    \n",
    "show(p)\n",
    "print(sum)"
   ]
  },
  {
   "cell_type": "code",
   "execution_count": null,
   "metadata": {},
   "outputs": [],
   "source": []
  },
  {
   "cell_type": "code",
   "execution_count": null,
   "metadata": {},
   "outputs": [],
   "source": []
  },
  {
   "cell_type": "code",
   "execution_count": null,
   "metadata": {},
   "outputs": [],
   "source": []
  }
 ],
 "metadata": {
  "kernelspec": {
   "display_name": "Python [conda env:tensorflowpy3pt5]",
   "language": "python",
   "name": "conda-env-tensorflowpy3pt5-py"
  },
  "language_info": {
   "codemirror_mode": {
    "name": "ipython",
    "version": 3
   },
   "file_extension": ".py",
   "mimetype": "text/x-python",
   "name": "python",
   "nbconvert_exporter": "python",
   "pygments_lexer": "ipython3",
   "version": "3.5.5"
  }
 },
 "nbformat": 4,
 "nbformat_minor": 2
}
