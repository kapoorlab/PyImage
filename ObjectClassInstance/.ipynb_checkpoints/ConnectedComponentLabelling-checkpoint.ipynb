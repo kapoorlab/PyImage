{
 "cells": [
  {
   "cell_type": "code",
   "execution_count": 54,
   "metadata": {},
   "outputs": [],
   "source": [
    "import sys\n",
    "sys.path.insert(0, \"/Users/aimachine/PyImage/utils\")\n",
    "import numpy as np\n",
    "import tensorflow as tf\n",
    "import importlib\n",
    "import matplotlib.pyplot as plt\n",
    "import os\n",
    "import glob\n",
    "import skimage\n",
    "from skimage import measure\n",
    "from skimage import filters\n",
    "from skimage.morphology import remove_small_objects\n",
    "from skimage.filters import threshold_otsu\n",
    "from skimage.exposure import rescale_intensity\n",
    "from tifffile import imread\n",
    "import scipy\n",
    "from scipy import ndimage\n",
    "from Normalize import Path,normalizeMinMax, fill_label_holes, save_tiff_imagej_compatible\n"
   ]
  },
  {
   "cell_type": "code",
   "execution_count": 55,
   "metadata": {},
   "outputs": [],
   "source": [
    "basedir = '/Volumes/TRANSCEND/3DRawDataJulia/BinaryMasks'\n",
    "targetdir = '/Volumes/TRANSCEND/3DRawDataJulia/BinaryMasks'"
   ]
  },
  {
   "cell_type": "code",
   "execution_count": 56,
   "metadata": {},
   "outputs": [
    {
     "name": "stdout",
     "output_type": "stream",
     "text": [
      "Total number of input images =  1\n",
      "Image size =  (73, 512, 512)\n",
      "Time dim =  73\n"
     ]
    }
   ],
   "source": [
    "Path = os.path.join(basedir, '*.tif')\n",
    "X = []\n",
    "Names = []\n",
    "filesRaw = glob.glob(Path)\n",
    "maxtime = 0\n",
    "axes = 'TYX'\n",
    "for fname in filesRaw:\n",
    "      x = imread(fname)\n",
    "      min = np.amin(x)\n",
    "      max = np.amax(x)\n",
    "      x = normalizeMinMax(x, min, max)  \n",
    "      X.append(x)\n",
    "    \n",
    "     \n",
    "      Names.append(fname)\n",
    "      if X[0].shape[0] > maxtime:\n",
    "        maxtime = X[0].shape[0]\n",
    "X.sort\n",
    "Names.sort\n",
    "\n",
    "\n",
    "ReshapeX = []\n",
    "for i in range(len(X)):\n",
    "    y = np.zeros((maxtime, X[0].shape[1], X[0].shape[2]))\n",
    "    image = X[i]\n",
    "    \n",
    "    y[:X[i].shape[0],:,:] = image[:,:,:]\n",
    "    ReshapeX.append(y)\n",
    "    \n",
    "ReshapeX.sort\n",
    "\n",
    "print('Total number of input images = ', len(X))\n",
    "print('Image size = ', X[0].shape)\n",
    "print('Time dim = ', maxtime)\n",
    "\n",
    "timerange = maxtime\n",
    "\n",
    "    \n",
    "    "
   ]
  },
  {
   "cell_type": "code",
   "execution_count": 57,
   "metadata": {},
   "outputs": [
    {
     "data": {
      "text/plain": [
       "<matplotlib.image.AxesImage at 0x14a5dc278>"
      ]
     },
     "execution_count": 57,
     "metadata": {},
     "output_type": "execute_result"
    },
    {
     "data": {
      "image/png": "[encoded data removed]",
      "text/plain": [
       "<Figure size 432x288 with 1 Axes>"
      ]
     },
     "metadata": {},
     "output_type": "display_data"
    }
   ],
   "source": [
    "image = ReshapeX[0]\n",
    "plt.imshow(image[0,:,:])\n",
    "\n"
   ]
  },
  {
   "cell_type": "code",
   "execution_count": 58,
   "metadata": {},
   "outputs": [
    {
     "name": "stdout",
     "output_type": "stream",
     "text": [
      "1 2\n"
     ]
    }
   ],
   "source": [
    "GoodLabel = 2\n",
    "BadLabel = 1\n",
    "\n",
    "print(BadLabel, GoodLabel)\n"
   ]
  },
  {
   "cell_type": "code",
   "execution_count": 59,
   "metadata": {},
   "outputs": [],
   "source": [
    "def RemoveBad(img):\n",
    "    cleanimage = img\n",
    "    for j in range(timerange):\n",
    "      smallimg = img[j,:,:]\n",
    "      pureimg = smallimg==GoodLabel\n",
    "        \n",
    "      cleanimage[j,:,:] = pureimg;  \n",
    "     \n",
    "    return cleanimage"
   ]
  },
  {
   "cell_type": "code",
   "execution_count": 60,
   "metadata": {},
   "outputs": [],
   "source": [
    "def GetLabel(img):\n",
    "    labels = img;\n",
    "    for j in range(timerange):\n",
    "      smallimg = img[j,:,:]\n",
    "      \n",
    "      \n",
    "      binary  =  smallimg > 0\n",
    "      \n",
    "      smalllabels, nr_objects = ndimage.label(binary > 0) \n",
    "      nonormimg = fill_label_holes(smalllabels[:,:] )\n",
    "      nonormimg = remove_small_objects(nonormimg, min_size=640, connectivity=16, in_place=False)\n",
    "      min = np.amin(nonormimg)\n",
    "      max = np.amax(nonormimg)\n",
    "      nonormimg = normalizeMinMax(nonormimg, min, max) \n",
    "        \n",
    "      labels [j,:,:] = nonormimg\n",
    "    return labels "
   ]
  },
  {
   "cell_type": "code",
   "execution_count": 61,
   "metadata": {},
   "outputs": [],
   "source": [
    "CleanX = []\n",
    "for i in range(0, len(ReshapeX)):\n",
    "  img = ReshapeX[i]\n",
    "  cleanimage = img#RemoveBad(img)\n",
    "    \n",
    "  CleanX.append(cleanimage)  \n",
    "\n",
    " "
   ]
  },
  {
   "cell_type": "code",
   "execution_count": 62,
   "metadata": {},
   "outputs": [
    {
     "data": {
      "text/plain": [
       "<matplotlib.image.AxesImage at 0x14a88c550>"
      ]
     },
     "execution_count": 62,
     "metadata": {},
     "output_type": "execute_result"
    },
    {
     "data": {
      "image/png": "[encoded data removed]",
      "text/plain": [
       "<Figure size 432x288 with 1 Axes>"
      ]
     },
     "metadata": {},
     "output_type": "display_data"
    }
   ],
   "source": [
    "\n",
    "\n",
    "plt.imshow(cleanimage[0,:,:])"
   ]
  },
  {
   "cell_type": "code",
   "execution_count": 63,
   "metadata": {},
   "outputs": [
    {
     "name": "stderr",
     "output_type": "stream",
     "text": [
      "/Users/aimachine/PyImage/utils/Normalize.py:48: UserWarning: Converting data type from 'float64' to ImageJ-compatible 'float32'.\n",
      "  warnings.warn(\"Converting data type from '%s' to ImageJ-compatible '%s'.\" % (t, np.dtype(t_new)))\n",
      "/Users/aimachine/PyImage/utils/Normalize.py:160: FutureWarning: Using a non-tuple sequence for multidimensional indexing is deprecated; use `arr[tuple(seq)]` instead of `arr[seq]`. In the future this will be interpreted as an array index, `arr[np.array(seq)]`, which will result either in an error or a different result.\n",
      "  x = x[slices]\n"
     ]
    }
   ],
   "source": [
    "for i in range(0, len(CleanX)):\n",
    "  newimg = CleanX[i]\n",
    "  \n",
    "  labelledimage = GetLabel(newimg)\n",
    "    \n",
    "  save_tiff_imagej_compatible((targetdir + \"SmallLabelIgnored\" +os.path.basename(Names[i])) , labelledimage, axes)"
   ]
  },
  {
   "cell_type": "code",
   "execution_count": 64,
   "metadata": {},
   "outputs": [
    {
     "data": {
      "text/plain": [
       "<matplotlib.image.AxesImage at 0x14aae46d8>"
      ]
     },
     "execution_count": 64,
     "metadata": {},
     "output_type": "execute_result"
    },
    {
     "data": {
      "image/png": "[encoded data removed]",
      "text/plain": [
       "<Figure size 432x288 with 1 Axes>"
      ]
     },
     "metadata": {},
     "output_type": "display_data"
    }
   ],
   "source": [
    "plt.imshow(labelledimage[0,:,:])"
   ]
  },
  {
   "cell_type": "code",
   "execution_count": null,
   "metadata": {},
   "outputs": [],
   "source": []
  }
 ],
 "metadata": {
  "kernelspec": {
   "display_name": "Python [conda env:tensorflowpy3pt5]",
   "language": "python",
   "name": "conda-env-tensorflowpy3pt5-py"
  },
  "language_info": {
   "codemirror_mode": {
    "name": "ipython",
    "version": 3
   },
   "file_extension": ".py",
   "mimetype": "text/x-python",
   "name": "python",
   "nbconvert_exporter": "python",
   "pygments_lexer": "ipython3",
   "version": "3.5.5"
  }
 },
 "nbformat": 4,
 "nbformat_minor": 2
}
