{
 "cells": [
  {
   "cell_type": "code",
   "execution_count": 9,
   "metadata": {},
   "outputs": [],
   "source": [
    "import sys\n",
    "sys.path.insert(0, \"/Users/aimachine/PyImage/utils\")\n",
    "import numpy as np\n",
    "\n",
    "import importlib\n",
    "import matplotlib.pyplot as plt\n",
    "import os\n",
    "import glob\n",
    "import skimage\n",
    "from skimage import measure\n",
    "from skimage import filters\n",
    "from Normalize import normalizeFloat, normalizeMinMax, Path, save_tiff_imagej_compatible\n",
    "from skimage.filters import threshold_otsu\n",
    "from tifffile import imread\n",
    "from GaussFit import MakePath"
   ]
  },
  {
   "cell_type": "code",
   "execution_count": 10,
   "metadata": {},
   "outputs": [],
   "source": [
    "basedir = '/Users/aimachine/Downloads/Pinochio/SplitTest/'\n",
    "targetdir =  '/Users/aimachine/Downloads/Pinochio/SplitTest/SplitOne/'"
   ]
  },
  {
   "cell_type": "code",
   "execution_count": 11,
   "metadata": {},
   "outputs": [
    {
     "name": "stdout",
     "output_type": "stream",
     "text": [
      "Total number of input images =  1\n",
      "Image size =  (121, 436, 670)\n"
     ]
    }
   ],
   "source": [
    "Path = os.path.join(basedir, '*.tif')\n",
    "MakePath(targetdir)\n",
    "\n",
    "BigZ = []\n",
    "Names = []\n",
    "filesRaw = glob.glob(Path)\n",
    "maxtime = 0\n",
    "axes = 'YX'\n",
    "for fname in filesRaw:\n",
    "      x = imread(fname)\n",
    "     \n",
    "      \n",
    "      BigZ.append(x)\n",
    "   \n",
    "     \n",
    "      Names.append(fname)\n",
    "      \n",
    "    \n",
    "BigZ.sort\n",
    "Names.sort\n",
    "\n",
    "CommonName = '40x_bin1_05_5min_1_w2CSU-488_s7_t'\n",
    "print('Total number of input images = ', len(BigZ))\n",
    "print('Image size = ', BigZ[0].shape)"
   ]
  },
  {
   "cell_type": "code",
   "execution_count": 26,
   "metadata": {},
   "outputs": [],
   "source": [
    "for i in range(0, len(BigZ)):\n",
    "  img = BigZ[i]\n",
    "  for j in range(0, img.shape[0]):\n",
    "    smallimg = img[j,:,:]\n",
    "    \n",
    "    strAdd = ''\n",
    "    if j < 9:\n",
    "      strAdd = '00'\n",
    "    if j >=9:\n",
    "      strAdd = '0' \n",
    "    if j >= 99:\n",
    "       strAdd = '' \n",
    "    \n",
    "    save_tiff_imagej_compatible((targetdir + CommonName + strAdd +  str(j + 1)+ '.tif') , smallimg, axes)"
   ]
  },
  {
   "cell_type": "code",
   "execution_count": null,
   "metadata": {},
   "outputs": [],
   "source": []
  }
 ],
 "metadata": {
  "kernelspec": {
   "display_name": "Python [conda env:tensorflowpy3pt5]",
   "language": "python",
   "name": "conda-env-tensorflowpy3pt5-py"
  },
  "language_info": {
   "codemirror_mode": {
    "name": "ipython",
    "version": 3
   },
   "file_extension": ".py",
   "mimetype": "text/x-python",
   "name": "python",
   "nbconvert_exporter": "python",
   "pygments_lexer": "ipython3",
   "version": "3.5.5"
  },
  "toc": {
   "base_numbering": 1,
   "nav_menu": {},
   "number_sections": false,
   "sideBar": false,
   "skip_h1_title": false,
   "title_cell": "Table of Contents",
   "title_sidebar": "Contents",
   "toc_cell": false,
   "toc_position": {},
   "toc_section_display": false,
   "toc_window_display": false
  }
 },
 "nbformat": 4,
 "nbformat_minor": 2
}
