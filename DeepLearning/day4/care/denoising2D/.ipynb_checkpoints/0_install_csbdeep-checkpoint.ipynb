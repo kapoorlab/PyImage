{
 "cells": [
  {
   "cell_type": "markdown",
   "metadata": {},
   "source": [
    "\n",
    "![](imgs/logo.png)\n",
    "\n",
    "Python library for 2D/3D content-aware image restorations with convolutional neural networks (CARE)\n",
    "\n",
    "\n",
    "\n",
    "* predefined architectures (residual U-Nets)\n",
    "* denoising, isotropic reconstruction, upsampling (2D/3D)\n",
    "* functions for data preprocessing/training data generation (e.g. normalisation, sampling)\n",
    "* tiled predictions\n",
    "\n",
    "http://csbdeep.bioimagecomputing.com/doc/"
   ]
  },
  {
   "cell_type": "code",
   "execution_count": 1,
   "metadata": {},
   "outputs": [
    {
     "name": "stdout",
     "output_type": "stream",
     "text": [
      "Requirement already satisfied: csbdeep in /home/courses/icarus16/.local/lib/python3.6/site-packages (0.1.1)\n",
      "Requirement already satisfied: numpy in /lustre/sw/apps/python3/3.6.5/lib/python3.6/site-packages (from csbdeep) (1.15.0)\n",
      "Requirement already satisfied: scipy in /lustre/sw/apps/python3/3.6.5/lib/python3.6/site-packages (from csbdeep) (1.0.1)\n",
      "Requirement already satisfied: matplotlib in /lustre/sw/apps/python3/3.6.5/lib/python3.6/site-packages (from csbdeep) (2.2.2)\n",
      "Requirement already satisfied: six in /lustre/sw/apps/python3/3.6.5/lib/python3.6/site-packages (from csbdeep) (1.11.0)\n",
      "Requirement already satisfied: keras>=2.0.7 in /lustre/sw/apps/python3/3.6.5/lib/python3.6/site-packages (from csbdeep) (2.1.5)\n",
      "Requirement already satisfied: tifffile in /lustre/sw/apps/python3/3.6.5/lib/python3.6/site-packages (from csbdeep) (0.14.0)\n",
      "Requirement already satisfied: tqdm in /lustre/sw/apps/python3/3.6.5/lib/python3.6/site-packages (from csbdeep) (4.21.0)\n",
      "Requirement already satisfied: cycler>=0.10 in /lustre/sw/apps/python3/3.6.5/lib/python3.6/site-packages (from matplotlib->csbdeep) (0.10.0)\n",
      "Requirement already satisfied: pyparsing!=2.0.4,!=2.1.2,!=2.1.6,>=2.0.1 in /lustre/sw/apps/python3/3.6.5/lib/python3.6/site-packages (from matplotlib->csbdeep) (2.2.0)\n",
      "Requirement already satisfied: pytz in /lustre/sw/apps/python3/3.6.5/lib/python3.6/site-packages (from matplotlib->csbdeep) (2018.4)\n",
      "Requirement already satisfied: kiwisolver>=1.0.1 in /lustre/sw/apps/python3/3.6.5/lib/python3.6/site-packages (from matplotlib->csbdeep) (1.0.1)\n",
      "Requirement already satisfied: python-dateutil>=2.1 in /lustre/sw/apps/python3/3.6.5/lib/python3.6/site-packages (from matplotlib->csbdeep) (2.7.2)\n",
      "Requirement already satisfied: pyyaml in /lustre/sw/apps/python3/3.6.5/lib/python3.6/site-packages (from keras>=2.0.7->csbdeep) (3.12)\n",
      "Requirement already satisfied: setuptools in /lustre/sw/apps/python3/3.6.5/lib/python3.6/site-packages (from kiwisolver>=1.0.1->matplotlib->csbdeep) (39.1.0)\n"
     ]
    }
   ],
   "source": [
    "!pip3 install --user csbdeep"
   ]
  },
  {
   "cell_type": "code",
   "execution_count": null,
   "metadata": {},
   "outputs": [],
   "source": []
  }
 ],
 "metadata": {
  "kernelspec": {
   "display_name": "Python 3",
   "language": "python",
   "name": "python3"
  },
  "language_info": {
   "codemirror_mode": {
    "name": "ipython",
    "version": 3
   },
   "file_extension": ".py",
   "mimetype": "text/x-python",
   "name": "python",
   "nbconvert_exporter": "python",
   "pygments_lexer": "ipython3",
   "version": "3.6.5"
  }
 },
 "nbformat": 4,
 "nbformat_minor": 2
}
