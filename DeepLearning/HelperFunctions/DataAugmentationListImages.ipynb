{
 "cells": [
  {
   "cell_type": "code",
   "execution_count": 37,
   "metadata": {},
   "outputs": [],
   "source": [
    "import sys\n",
    "sys.path.insert(0, \"/Users/aimachine/PyImage/utils\")\n",
    "import numpy as np\n",
    "import os\n",
    "import matplotlib.pyplot as plt\n",
    "from glob import glob\n",
    "from tifffile import imread\n",
    "\n",
    "from Normalize import normalizeFloat, normalizeMinMax, Path, save_tiff_imagej_compatible"
   ]
  },
  {
   "cell_type": "code",
   "execution_count": 38,
   "metadata": {},
   "outputs": [
    {
     "name": "stdout",
     "output_type": "stream",
     "text": [
      "1.tif\n"
     ]
    }
   ],
   "source": [
    "\n",
    "X = sorted(glob('/Users/aimachine/Documents/OzgaDeepLearning/images/*.tif'))\n",
    "Y = sorted(glob('/Users/aimachine/Documents/OzgaDeepLearning/masks/*.tif'))\n",
    "\n",
    "targetdirX = '/Users/aimachine/Documents/OzgaDeepLearning/images/'\n",
    "targetdirY = '/Users/aimachine/Documents/OzgaDeepLearning/masks/'\n",
    "\n",
    "assert all(Path(x).name==Path(y).name for x,y in zip(X,Y))\n",
    "Names = []\n",
    "\n",
    "axes = 'XY'\n",
    "print(os.path.split(X[0])[-1])\n"
   ]
  },
  {
   "cell_type": "code",
   "execution_count": 39,
   "metadata": {},
   "outputs": [
    {
     "name": "stdout",
     "output_type": "stream",
     "text": [
      "2048 2048\n"
     ]
    }
   ],
   "source": [
    "listX = list(map(imread,X))\n",
    "listY = list(map(imread,Y))\n",
    "\n",
    "WIDTH = 0\n",
    "HEIGHT = 0\n",
    "for i in range(len(listX)):\n",
    "    if listX[i].shape[0] > WIDTH:\n",
    "        WIDTH = listX[i].shape[0]\n",
    "    if listX[i].shape[1] > HEIGHT:\n",
    "        HEIGHT = listX[i].shape[1]\n",
    "print(WIDTH, HEIGHT)"
   ]
  },
  {
   "cell_type": "markdown",
   "metadata": {},
   "source": [
    "In the cell below we zero pad the images so that they are all of the same size and resemble the iamge of maximum size"
   ]
  },
  {
   "cell_type": "code",
   "execution_count": null,
   "metadata": {},
   "outputs": [
    {
     "name": "stderr",
     "output_type": "stream",
     "text": [
      "/Users/aimachine/anaconda3/envs/tensorflowpy3pt5/lib/python3.5/site-packages/skimage/transform/_warps.py:110: UserWarning: Anti-aliasing will be enabled by default in skimage 0.15 to avoid aliasing artifacts when down-sampling images.\n",
      "  warn(\"Anti-aliasing will be enabled by default in skimage 0.15 to \"\n"
     ]
    }
   ],
   "source": [
    "\n",
    "#Concactenate into an array\n",
    "from skimage import transform\n",
    "\n",
    "images=[]\n",
    "for fn in listX:\n",
    "    \n",
    "    image = transform.resize(fn, (HEIGHT, WIDTH), mode='constant')\n",
    "    #print(fn, image.shape)\n",
    "    images.append(image)\n",
    "images = np.array(images)\n",
    "print(images.shape)\n",
    "\n",
    "masks=[]\n",
    "for fn in listY:\n",
    "    \n",
    "    mask = transform.resize(fn, (HEIGHT, WIDTH), order=0, mode='constant')\n",
    "    \n",
    "    masks.append(mask)\n",
    "    \n",
    "masks = np.array(masks)\n",
    "\n",
    "rankfourX = np.expand_dims(images, axis = -1)\n",
    "rankfourY = np.expand_dims(masks, axis = -1)"
   ]
  },
  {
   "cell_type": "code",
   "execution_count": null,
   "metadata": {},
   "outputs": [],
   "source": [
    "from keras.preprocessing.image import ImageDataGenerator\n",
    "\n",
    "# traning data is augmented\n",
    "train_datagen = ImageDataGenerator(\n",
    "    rotation_range=20,\n",
    "        width_shift_range=0.1,\n",
    "        height_shift_range=0.1,\n",
    "        shear_range=0.5,\n",
    "        zoom_range=(0.9, 1.1),\n",
    "        horizontal_flip=False,\n",
    "        vertical_flip=False, \n",
    "        fill_mode='constant',\n",
    "        cval=0)\n",
    "\n",
    "\n",
    "\n",
    "\n",
    "train_generatorX = train_datagen.flow(rankfourX, batch_size= rankfourX.shape[0], seed=1337)\n",
    "train_generatorY=  train_datagen.flow(rankfourY,  batch_size= rankfourY.shape[0], seed=1337)\n",
    "   \n",
    "\n"
   ]
  },
  {
   "cell_type": "code",
   "execution_count": null,
   "metadata": {},
   "outputs": [],
   "source": [
    "newX = train_generatorX.next()\n",
    "newY = train_generatorY.next()\n",
    "print(newX.shape)\n",
    "print(newY.shape)\n",
    "\n"
   ]
  },
  {
   "cell_type": "code",
   "execution_count": null,
   "metadata": {},
   "outputs": [],
   "source": [
    "plt.figure\n",
    "plt.imshow(newX[1,:,:,0])\n"
   ]
  },
  {
   "cell_type": "code",
   "execution_count": null,
   "metadata": {},
   "outputs": [],
   "source": [
    "plt.figure\n",
    "plt.imshow(newY[1,:,:,0])"
   ]
  },
  {
   "cell_type": "code",
   "execution_count": null,
   "metadata": {},
   "outputs": [],
   "source": [
    "\n",
    "\n",
    "\n",
    "for i in range(newX.shape[0]):\n",
    "      resultX = newX[i,:,:,0]\n",
    "       \n",
    "     \n",
    "      base = os.path.split(X[i])[-1]\n",
    "      \n",
    "      Filename = \"new\" + base\n",
    "      \n",
    "      save_tiff_imagej_compatible((targetdirX + Filename ) , resultX, axes)\n",
    "        \n",
    "for i in range(newY.shape[0]):\n",
    "      resultY = newY[i,:,:,0]\n",
    "      base = os.path.split(Y[i])[-1]\n",
    "\n",
    "      Filename = \"new\" + base\n",
    "     \n",
    "      save_tiff_imagej_compatible((targetdirY + Filename ) , resultY, axes)        "
   ]
  },
  {
   "cell_type": "code",
   "execution_count": null,
   "metadata": {},
   "outputs": [],
   "source": []
  },
  {
   "cell_type": "code",
   "execution_count": null,
   "metadata": {},
   "outputs": [],
   "source": [
    "plt.imshow(resultX)"
   ]
  },
  {
   "cell_type": "code",
   "execution_count": null,
   "metadata": {},
   "outputs": [],
   "source": [
    "plt.imshow(resultY)"
   ]
  },
  {
   "cell_type": "code",
   "execution_count": null,
   "metadata": {},
   "outputs": [],
   "source": []
  },
  {
   "cell_type": "code",
   "execution_count": null,
   "metadata": {},
   "outputs": [],
   "source": []
  },
  {
   "cell_type": "code",
   "execution_count": null,
   "metadata": {},
   "outputs": [],
   "source": []
  }
 ],
 "metadata": {
  "kernelspec": {
   "display_name": "Python [conda env:tensorflowpy3pt5]",
   "language": "python",
   "name": "conda-env-tensorflowpy3pt5-py"
  },
  "language_info": {
   "codemirror_mode": {
    "name": "ipython",
    "version": 3
   },
   "file_extension": ".py",
   "mimetype": "text/x-python",
   "name": "python",
   "nbconvert_exporter": "python",
   "pygments_lexer": "ipython3",
   "version": "3.5.5"
  }
 },
 "nbformat": 4,
 "nbformat_minor": 2
}
