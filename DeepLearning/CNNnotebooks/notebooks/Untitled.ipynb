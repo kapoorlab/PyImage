{
 "cells": [
  {
   "cell_type": "code",
   "execution_count": 1,
   "metadata": {},
   "outputs": [
    {
     "name": "stdout",
     "output_type": "stream",
     "text": [
      "['', '/sw/apps/jupyter-tensorboard/0.1.6/lib/python3.6/site-packages', '/sw/apps/python/3rd_party', '/lustre/projects/hpcsupport/steinbac/development/deeplearning18/day3/notebooks', '/sw/apps/python3/3.6.5/lib/python36.zip', '/sw/apps/python3/3.6.5/lib/python3.6', '/sw/apps/python3/3.6.5/lib/python3.6/lib-dynload', '/home/steinbac/.local/lib/python3.6/site-packages', '/sw/apps/python3/3.6.5/lib/python3.6/site-packages', '/home/steinbac/.local/lib/python3.6/site-packages/IPython/extensions', '/home/steinbac/.ipython']\n",
      "['', '/sw/apps/jupyter-tensorboard/0.1.6/lib/python3.6/site-packages', '/sw/apps/python/3rd_party', '/lustre/projects/hpcsupport/steinbac/development/deeplearning18/day3/notebooks', '/sw/apps/python3/3.6.5/lib/python36.zip', '/sw/apps/python3/3.6.5/lib/python3.6', '/sw/apps/python3/3.6.5/lib/python3.6/lib-dynload', '/home/steinbac/.local/lib/python3.6/site-packages', '/sw/apps/python3/3.6.5/lib/python3.6/site-packages', '/home/steinbac/.local/lib/python3.6/site-packages/IPython/extensions', '/home/steinbac/.ipython', '~/.local/lib/python3.6/site-packages']\n"
     ]
    },
    {
     "data": {
      "text/plain": [
       "'0.14.0'"
      ]
     },
     "execution_count": 1,
     "metadata": {},
     "output_type": "execute_result"
    }
   ],
   "source": [
    "import sys\n",
    "print(sys.path)\n",
    "sys.path.append(\"~/.local/lib/python3.6/site-packages\")\n",
    "print(sys.path)\n",
    "import skimage\n",
    "skimage.__version__\n"
   ]
  },
  {
   "cell_type": "code",
   "execution_count": null,
   "metadata": {},
   "outputs": [],
   "source": []
  }
 ],
 "metadata": {
  "kernelspec": {
   "display_name": "Python 3",
   "language": "python",
   "name": "python3"
  },
  "language_info": {
   "codemirror_mode": {
    "name": "ipython",
    "version": 3
   },
   "file_extension": ".py",
   "mimetype": "text/x-python",
   "name": "python",
   "nbconvert_exporter": "python",
   "pygments_lexer": "ipython3",
   "version": "3.6.5"
  }
 },
 "nbformat": 4,
 "nbformat_minor": 2
}
