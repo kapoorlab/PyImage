{
 "cells": [
  {
   "cell_type": "code",
   "execution_count": null,
   "metadata": {},
   "outputs": [],
   "source": [
    "import numpy as np\n",
    "import matplotlib.pyplot as plt\n",
    "%matplotlib inline\n",
    "\n",
    "import keras\n",
    "from keras.datasets import cifar10\n",
    "from keras import backend as K\n",
    "\n",
    "from keras.preprocessing.image import ImageDataGenerator\n",
    "from keras.models import Sequential\n",
    "from keras.layers import Dense, Dropout, Activation, Flatten\n",
    "from keras.layers import Conv2D, MaxPooling2D\n",
    "\n",
    "from PIL import Image\n",
    "import os"
   ]
  },
  {
   "cell_type": "code",
   "execution_count": null,
   "metadata": {},
   "outputs": [],
   "source": [
    "def loadResizeImgs(path, size=(224,224), max = None):\n",
    "    imgs = []\n",
    "    for root, dirs, files in os.walk(path):\n",
    "        for file in files:\n",
    "            try:\n",
    "                im = Image.open(os.path.join(root, file))\n",
    "            except Exception as e:\n",
    "                print(\"[WW] \", str(e))\n",
    "                continue\n",
    "            w,h = im.size\n",
    "            if w < h:\n",
    "                im = im.crop((0, (h-w)/2, w, (h+w)/2))\n",
    "            elif w > h:\n",
    "                im = im.crop(((w-h+1)/2,0, (w+h)/2, h))\n",
    "            imgs.append(np.array(im.resize(size, Image.BILINEAR)))\n",
    "            if len(imgs[-1].shape) < 3:\n",
    "                imgs[-1] = np.stack([imgs[-1]]*3, axis=2)\n",
    "            if max is not None:\n",
    "                max -= 1\n",
    "                if max <= 0:\n",
    "                    break\n",
    "        if max == 0:\n",
    "            break\n",
    "    return np.stack(np.array(i) for i in imgs)"
   ]
  },
  {
   "cell_type": "code",
   "execution_count": null,
   "metadata": {},
   "outputs": [],
   "source": [
    "DATAPATH=\"/home/kelling/Downloads/imagenet/data/\""
   ]
  },
  {
   "cell_type": "code",
   "execution_count": null,
   "metadata": {},
   "outputs": [],
   "source": [
    "tmp = loadResizeImgs(DATAPATH+\"cat/\", max = 10)"
   ]
  },
  {
   "cell_type": "code",
   "execution_count": null,
   "metadata": {},
   "outputs": [],
   "source": [
    "data = []\n",
    "label = []\n",
    "label2 = []\n",
    "for i,n in enumerate([\"n02123045_tabby\", \"n02123394_persian\"]):\n",
    "    data.append(loadResizeImgs(DATAPATH+\"cat/\"+n))\n",
    "    label.append(np.full((data[-1].shape[0],), 0))\n",
    "    label2.append(np.full((data[-1].shape[0],), i))\n",
    "    \n",
    "for i,n in enumerate([\"n02106662_shepherd\", \"n02109961_husky\", \"n02110627_affenpinscher\"]):\n",
    "    data.append(loadResizeImgs(DATAPATH+\"dog/\"+n))\n",
    "    label.append(np.full((data[-1].shape[0],), 1))\n",
    "    label2.append(np.full((data[-1].shape[0],), i))"
   ]
  },
  {
   "cell_type": "code",
   "execution_count": null,
   "metadata": {},
   "outputs": [],
   "source": [
    "data = np.concatenate(data)\n",
    "label = np.concatenate(label)\n",
    "label2 = np.concatenate(label2)"
   ]
  },
  {
   "cell_type": "code",
   "execution_count": null,
   "metadata": {},
   "outputs": [],
   "source": [
    "print(data.shape, label.shape, label2.shape)"
   ]
  },
  {
   "cell_type": "code",
   "execution_count": null,
   "metadata": {},
   "outputs": [],
   "source": [
    "np.savez(DATAPATH+\"data.npz\", data=data, label=label, label2=label2)"
   ]
  },
  {
   "cell_type": "code",
   "execution_count": null,
   "metadata": {},
   "outputs": [],
   "source": [
    "plt.imshow(data[4000])"
   ]
  },
  {
   "cell_type": "code",
   "execution_count": null,
   "metadata": {},
   "outputs": [],
   "source": []
  }
 ],
 "metadata": {
  "kernelspec": {
   "display_name": "Python 3",
   "language": "python",
   "name": "python3"
  },
  "language_info": {
   "codemirror_mode": {
    "name": "ipython",
    "version": 3
   },
   "file_extension": ".py",
   "mimetype": "text/x-python",
   "name": "python",
   "nbconvert_exporter": "python",
   "pygments_lexer": "ipython3",
   "version": "3.5.2"
  }
 },
 "nbformat": 4,
 "nbformat_minor": 2
}
